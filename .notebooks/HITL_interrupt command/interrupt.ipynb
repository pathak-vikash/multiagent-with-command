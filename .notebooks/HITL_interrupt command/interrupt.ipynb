{
 "cells": [
  {
   "cell_type": "code",
   "execution_count": 2,
   "id": "983cbb8a",
   "metadata": {},
   "outputs": [],
   "source": [
    "from langgraph.graph import StateGraph, START, END\n",
    "from langgraph.types import Command, interrupt\n",
    "from typing import TypedDict\n",
    "from langgraph.checkpoint.memory import MemorySaver"
   ]
  },
  {
   "cell_type": "code",
   "execution_count": 20,
   "id": "6c59910d",
   "metadata": {},
   "outputs": [],
   "source": [
    "memory = MemorySaver()\n",
    "class State(TypedDict):\n",
    "    value: str"
   ]
  },
  {
   "cell_type": "code",
   "execution_count": 21,
   "id": "85ee90ac",
   "metadata": {},
   "outputs": [],
   "source": [
    "def node_a(state: State):\n",
    "    print(\"Node A\")\n",
    "    return Command(\n",
    "        goto=\"node_b\",\n",
    "        update={\n",
    "            \"value\": state[\"value\"] + \"a\"\n",
    "        }\n",
    "    )"
   ]
  },
  {
   "cell_type": "code",
   "execution_count": 22,
   "id": "5ca0f081",
   "metadata": {},
   "outputs": [],
   "source": [
    "def node_b(state: State):\n",
    "    print(\"Node B\")\n",
    "    human_reponse = interrupt(\"Do you want to go to C or D? Typed C/D\")\n",
    "    print(\"Human Review Value:\", human_reponse)\n",
    "    \n",
    "    if (human_reponse == \"C\"):\n",
    "        return Command(\n",
    "            goto=\"node_c\",\n",
    "            update={\n",
    "                \"value\": state[\"value\"] + \"c\"\n",
    "            }\n",
    "        )\n",
    "    elif (human_reponse == \"D\"):\n",
    "        return Command(\n",
    "            goto=\"node_d\",\n",
    "            update={\n",
    "                \"value\": state[\"value\"] + \"d\"\n",
    "            }\n",
    "        )"
   ]
  },
  {
   "cell_type": "code",
   "execution_count": null,
   "id": "01b05deb",
   "metadata": {},
   "outputs": [],
   "source": [
    "def node_c(state: State):\n",
    "    print(\"Node C\")\n",
    "    return Command(\n",
    "        goto=END,\n",
    "        # update={\n",
    "        #     \"value\": state[\"value\"] + \"c\"\n",
    "        # }\n",
    "    )\n",
    "    \n",
    "def node_d(state: State):\n",
    "    print(\"Node D\")\n",
    "    return Command(\n",
    "        goto=END,\n",
    "        update={\n",
    "            \"value\": state[\"value\"] + \"d\"\n",
    "        }\n",
    "    )"
   ]
  },
  {
   "cell_type": "code",
   "execution_count": 24,
   "id": "7e01fbaa",
   "metadata": {},
   "outputs": [],
   "source": [
    "graph = StateGraph(State)\n",
    "\n",
    "graph.add_node(\"node_a\", node_a)\n",
    "graph.add_node(\"node_b\", node_b)\n",
    "graph.add_node(\"node_c\", node_c)\n",
    "graph.add_node(\"node_d\", node_d)\n",
    "\n",
    "graph.set_entry_point(\"node_a\")\n",
    "\n",
    "app = graph.compile(checkpointer=memory)"
   ]
  },
  {
   "cell_type": "code",
   "execution_count": 25,
   "id": "9880ae65",
   "metadata": {},
   "outputs": [],
   "source": [
    "config = {\n",
    "    \"configurable\": {\n",
    "        \"thread_id\": \"1\"\n",
    "        }   \n",
    "    }\n",
    "\n",
    "initiaState = {\n",
    "    \"value\": \"\"\n",
    "}"
   ]
  },
  {
   "cell_type": "code",
   "execution_count": 26,
   "id": "7dc183d9",
   "metadata": {},
   "outputs": [
    {
     "name": "stdout",
     "output_type": "stream",
     "text": [
      "()\n"
     ]
    }
   ],
   "source": [
    "print(app.get_state(config).next)"
   ]
  },
  {
   "cell_type": "code",
   "execution_count": null,
   "id": "dbd33909",
   "metadata": {},
   "outputs": [
    {
     "name": "stdout",
     "output_type": "stream",
     "text": [
      "Node A\n",
      "Node B\n"
     ]
    },
    {
     "data": {
      "text/plain": [
       "[{'node_a': {'value': 'a'}},\n",
       " {'__interrupt__': (Interrupt(value='Do you want to go to C or D? Typed C/D', resumable=True, ns=['node_b:16338e4e-9d58-37d7-2a4d-f40906a306e9']),)}]"
      ]
     },
     "execution_count": 27,
     "metadata": {},
     "output_type": "execute_result"
    }
   ],
   "source": [
    "first_result = app.invoke(initiaState, config, stream_mode=\"updates\")\n",
    "first_result"
   ]
  },
  {
   "cell_type": "code",
   "execution_count": 29,
   "id": "db9bb097",
   "metadata": {},
   "outputs": [
    {
     "name": "stdout",
     "output_type": "stream",
     "text": [
      "('node_b',)\n"
     ]
    }
   ],
   "source": [
    "print(app.get_state(config).next)"
   ]
  },
  {
   "cell_type": "code",
   "execution_count": 30,
   "id": "4d9d3b31",
   "metadata": {},
   "outputs": [
    {
     "name": "stdout",
     "output_type": "stream",
     "text": [
      "Node B\n",
      "Human Review Value: C\n",
      "Node C\n"
     ]
    },
    {
     "data": {
      "text/plain": [
       "[{'node_b': {'value': 'ac'}}, {'node_c': {'value': 'acc'}}]"
      ]
     },
     "execution_count": 30,
     "metadata": {},
     "output_type": "execute_result"
    }
   ],
   "source": [
    "second_result = app.invoke(Command(resume=\"C\"), config=config, stream_mode=\"updates\")\n",
    "second_result"
   ]
  },
  {
   "cell_type": "code",
   "execution_count": 31,
   "id": "8be21829",
   "metadata": {},
   "outputs": [
    {
     "name": "stdout",
     "output_type": "stream",
     "text": [
      "()\n"
     ]
    }
   ],
   "source": [
    "print(app.get_state(config).next)"
   ]
  },
  {
   "cell_type": "code",
   "execution_count": null,
   "id": "10f4c13c",
   "metadata": {},
   "outputs": [],
   "source": []
  }
 ],
 "metadata": {
  "kernelspec": {
   "display_name": ".venv",
   "language": "python",
   "name": "python3"
  },
  "language_info": {
   "codemirror_mode": {
    "name": "ipython",
    "version": 3
   },
   "file_extension": ".py",
   "mimetype": "text/x-python",
   "name": "python",
   "nbconvert_exporter": "python",
   "pygments_lexer": "ipython3",
   "version": "3.12.6"
  }
 },
 "nbformat": 4,
 "nbformat_minor": 5
}
