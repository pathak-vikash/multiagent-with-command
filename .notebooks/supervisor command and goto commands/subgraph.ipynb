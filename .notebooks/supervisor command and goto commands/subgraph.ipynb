{
 "cells": [
  {
   "cell_type": "code",
   "execution_count": 17,
   "id": "d715e9f4",
   "metadata": {},
   "outputs": [
    {
     "data": {
      "text/plain": [
       "True"
      ]
     },
     "execution_count": 17,
     "metadata": {},
     "output_type": "execute_result"
    }
   ],
   "source": [
    "from typing import TypedDict, Annotated\n",
    "from langgraph.graph import add_messages, StateGraph, END, START\n",
    "from langchain_groq import ChatGroq\n",
    "from langchain_core.messages import AIMessage, HumanMessage\n",
    "from dotenv import load_dotenv\n",
    "from langchain_community.tools.tavily_search import TavilySearchResults\n",
    "from langgraph.prebuilt import ToolNode\n",
    "\n",
    "load_dotenv()"
   ]
  },
  {
   "cell_type": "markdown",
   "id": "6fec3b5d",
   "metadata": {},
   "source": [
    "### Build Child Graph"
   ]
  },
  {
   "cell_type": "code",
   "execution_count": 19,
   "metadata": {},
   "outputs": [],
   "source": [
    "class ChildState(TypedDict):\n",
    "    messages: Annotated[list, add_messages]\n",
    "    \n",
    "search_tool = TavilySearchResults(max_results=2)\n",
    "tools = [search_tool]"
   ]
  },
  {
   "cell_type": "code",
   "execution_count": 20,
   "metadata": {},
   "outputs": [
    {
     "data": {
      "text/plain": [
       "[{'url': 'https://www.quora.com/What-are-the-three-official-capitals-of-France-and-which-one-is-the-most-commonly-visited',\n",
       "  'content': \"The capital of France is Paris. It is not only the country's capital but also its largest city and a global center for art, culture, fashion, and cuisine. Paris is home to iconic landmarks such as the Eiffel Tower, Louvre Museum, Notre-Dame Cathedral, and the Champs-Élysées.\\nApart from Paris, France has several other major cities that are significant in terms of population, economy, history, and cultural importance. Some of these major cities include: [...] 1. Marseille: Located on the Mediterranean coast, Marseille is the second-largest city in France. It is known for its vibrant multicultural atmosp\\nContinue Reading\\nThe capital of France is Paris. It is not only the country's capital but also its largest city and a global center for art, culture, fashion, and cuisine. Paris is home to iconic landmarks such as the Eiffel Tower, Louvre Museum, Notre-Dame Cathedral, and the Champs-Élysées. [...] Continue Reading\\nFrance has one official capital, which is Paris. Paris is France's political, cultural, and economic centre, serving as the primary location for the French government institutions.\\nHowever, France also has other symbolic and administrative capitals. Let's take a closer look:\"},\n",
       " {'url': 'https://en.wikipedia.org/wiki/List_of_capitals_of_France',\n",
       "  'content': 'From Wikipedia, the free encyclopedia\\nThis article needs additional citations for verification. Please help improve this article by adding citations to reliable sources. Unsourced material may be challenged and removed.\\nFind sources:\"List of capitals of France\"–news·newspapers·books·scholar·JSTOR(July 2012) (Learn how and when to remove this message)\\nThis is a chronological list of capitals of France. The capital of France has been Paris since its liberation in 1944.[1]\\nChronology\\n[edit]'}]"
      ]
     },
     "execution_count": 20,
     "metadata": {},
     "output_type": "execute_result"
    }
   ],
   "source": [
    "search_tool.invoke(\"What is capital of France?\")"
   ]
  },
  {
   "cell_type": "code",
   "execution_count": 21,
   "metadata": {},
   "outputs": [],
   "source": [
    "llm = ChatGroq(model=\"llama-3.1-8b-instant\")"
   ]
  },
  {
   "cell_type": "code",
   "execution_count": 22,
   "metadata": {},
   "outputs": [],
   "source": [
    "llm_with_tools = llm.bind_tools(tools)"
   ]
  },
  {
   "cell_type": "code",
   "execution_count": 23,
   "metadata": {},
   "outputs": [],
   "source": [
    "def agent(state: ChildState):\n",
    "    return {\n",
    "        \"messages\": [llm_with_tools.invoke(state[\"messages\"])]\n",
    "    }\n",
    "    \n",
    "def tools_router(state: ChildState):\n",
    "    last_message = state[\"messages\"][-1]\n",
    "    if hasattr(last_message, \"tool_calls\") and len(last_message.tool_calls) > 0:\n",
    "        return \"tool_node\"\n",
    "    else:\n",
    "        return END     "
   ]
  },
  {
   "cell_type": "code",
   "execution_count": 24,
   "metadata": {},
   "outputs": [],
   "source": [
    "tool_node = ToolNode(tools=tools)\n",
    "subgraph = StateGraph(ChildState)\n",
    "\n",
    "subgraph.add_node(\"agent\", agent)\n",
    "subgraph.add_node(\"tool_node\", tool_node)\n",
    "subgraph.set_entry_point(\"agent\")\n",
    "subgraph.add_conditional_edges(\"agent\", tools_router)\n",
    "subgraph.add_edge(\"tool_node\", \"agent\")\n",
    "\n",
    "search_app = subgraph.compile()"
   ]
  },
  {
   "cell_type": "code",
   "execution_count": 25,
   "metadata": {},
   "outputs": [
    {
     "data": {
      "image/png": "[encoded data removed]",
      "text/plain": [
       "<IPython.core.display.Image object>"
      ]
     },
     "metadata": {},
     "output_type": "display_data"
    }
   ],
   "source": [
    "from IPython.display import Image, display\n",
    "from langchain_core.runnables.graph import MermaidDrawMethod\n",
    "\n",
    "display(\n",
    "    Image(\n",
    "        search_app.get_graph().draw_mermaid_png(\n",
    "            draw_method=MermaidDrawMethod.API\n",
    "        )\n",
    "    )\n",
    ")"
   ]
  },
  {
   "cell_type": "code",
   "execution_count": 26,
   "id": "d424e718",
   "metadata": {},
   "outputs": [
    {
     "data": {
      "text/plain": [
       "{'messages': [HumanMessage(content='What is capital of France?', additional_kwargs={}, response_metadata={}, id='f17548e0-6ff3-420e-b3f4-27e3b235604a'),\n",
       "  AIMessage(content='', additional_kwargs={'tool_calls': [{'id': 'call_7dk2', 'function': {'arguments': '{\"query\": \"Capital of France\"}', 'name': 'tavily_search_results_json'}, 'type': 'function'}]}, response_metadata={'token_usage': {'completion_tokens': 20, 'prompt_tokens': 567, 'total_tokens': 587, 'completion_time': 0.02689306, 'prompt_time': 0.026309376, 'queue_time': -0.052012215, 'total_time': 0.053202436}, 'model_name': 'llama-3.1-8b-instant', 'system_fingerprint': 'fp_a4265e44d5', 'finish_reason': 'tool_calls', 'logprobs': None}, id='run-08beb135-1754-4fa3-ab60-9cfbacf3a9b6-0', tool_calls=[{'name': 'tavily_search_results_json', 'args': {'query': 'Capital of France'}, 'id': 'call_7dk2', 'type': 'tool_call'}], usage_metadata={'input_tokens': 567, 'output_tokens': 20, 'total_tokens': 587}),\n",
       "  ToolMessage(content='[{\"url\": \"https://en.wikipedia.org/wiki/List_of_capitals_of_France\", \"content\": \"From Wikipedia, the free encyclopedia\\\\nThis article needs additional citations for verification. Please help improve this article by adding citations to reliable sources. Unsourced material may be challenged and removed.\\\\nFind sources:\\\\\"List of capitals of France\\\\\"–news·newspapers·books·scholar·JSTOR(July 2012) (Learn how and when to remove this message)\\\\nThis is a chronological list of capitals of France. The capital of France has been Paris since its liberation in 1944.[1]\\\\nChronology\\\\n[edit] [...] Tours (10–13 June 1940), the city served as the temporary capital of France during World War II after the government fled Paris due to the German advance.\\\\nBordeaux (June 1940), the government was relocated from Paris to Tours then Bordeaux very briefly during World War II, when it became apparent that Paris would soon fall into German hands.\"}, {\"url\": \"https://home.adelphi.edu/~ca19535/page%204.html\", \"content\": \"Home | Spain | Sydney | San Francisco | Paris | Las Vegas | Maui\\\\nParis facts: Paris, the capital\\\\n\\\\r\\\\n        of France\\\\n\\\\nParis is the capital of France,\\\\r\\\\n      the largest country of Europe\\\\r\\\\n      with 550 000 km2 (65 millions inhabitants).\\\\n\\\\nParis has 2.234 million inhabitants\\\\r\\\\n      end 2011. She is the core of Ile de France region (12 million\\\\r\\\\n      people). [...] Before Paris, the capital of France\\\\r\\\\n        was Lyon\\\\r\\\\n        (under the Romans). Paris first became the capital of France in\\\\r\\\\n        508 under King Clovis. After centuries with no unique capital of\\\\r\\\\n        France, Paris retrieved its status of capital of France under King\\\\r\\\\n          Philippe Auguste, who reigned between 1180 and 1223. You\\\\r\\\\n        can see remains of the Philippe August Paris walls in the\\\\r\\\\n        passageway between the Louvre\\\\n\\\\r\\\\n          parking and Louvre Museum [...] Paris remained the capital of\\\\r\\\\n        France until today, with one four year interruption. During\\\\r\\\\n        German occupation (WW2 , 1940-1944), the capital of France was Vichy.\\\\n\\\\ngo to top\\\\n\\\\nReference:\\\\r\\\\n        http://www.parisdigest.com/information/facts.htm\"}]', name='tavily_search_results_json', id='169bb3d7-0f22-43af-b0c3-d4b7a566bc73', tool_call_id='call_7dk2', artifact={'query': 'Capital of France', 'follow_up_questions': None, 'answer': None, 'images': [], 'results': [{'url': 'https://en.wikipedia.org/wiki/List_of_capitals_of_France', 'title': 'List of capitals of France - Wikipedia', 'content': 'From Wikipedia, the free encyclopedia\\nThis article needs additional citations for verification. Please help improve this article by adding citations to reliable sources. Unsourced material may be challenged and removed.\\nFind sources:\"List of capitals of France\"–news·newspapers·books·scholar·JSTOR(July 2012) (Learn how and when to remove this message)\\nThis is a chronological list of capitals of France. The capital of France has been Paris since its liberation in 1944.[1]\\nChronology\\n[edit] [...] Tours (10–13 June 1940), the city served as the temporary capital of France during World War II after the government fled Paris due to the German advance.\\nBordeaux (June 1940), the government was relocated from Paris to Tours then Bordeaux very briefly during World War II, when it became apparent that Paris would soon fall into German hands.', 'score': 0.8980626, 'raw_content': None}, {'url': 'https://home.adelphi.edu/~ca19535/page%204.html', 'title': 'Paris facts: the capital of France in history', 'content': 'Home | Spain | Sydney | San Francisco | Paris | Las Vegas | Maui\\nParis facts: Paris, the capital\\n\\r\\n        of France\\n\\nParis is the capital of France,\\r\\n      the largest country of Europe\\r\\n      with 550 000 km2 (65 millions inhabitants).\\n\\nParis has 2.234 million inhabitants\\r\\n      end 2011. She is the core of Ile de France region (12 million\\r\\n      people). [...] Before Paris, the capital of France\\r\\n        was Lyon\\r\\n        (under the Romans). Paris first became the capital of France in\\r\\n        508 under King Clovis. After centuries with no unique capital of\\r\\n        France, Paris retrieved its status of capital of France under King\\r\\n          Philippe Auguste, who reigned between 1180 and 1223. You\\r\\n        can see remains of the Philippe August Paris walls in the\\r\\n        passageway between the Louvre\\n\\r\\n          parking and Louvre Museum [...] Paris remained the capital of\\r\\n        France until today, with one four year interruption. During\\r\\n        German occupation (WW2 , 1940-1944), the capital of France was Vichy.\\n\\ngo to top\\n\\nReference:\\r\\n        http://www.parisdigest.com/information/facts.htm', 'score': 0.8729662, 'raw_content': None}], 'response_time': 0.91}),\n",
       "  AIMessage(content='The capital of France is Paris.', additional_kwargs={}, response_metadata={'token_usage': {'completion_tokens': 8, 'prompt_tokens': 831, 'total_tokens': 839, 'completion_time': 0.010666667, 'prompt_time': 0.029507599, 'queue_time': 0.267728654, 'total_time': 0.040174266}, 'model_name': 'llama-3.1-8b-instant', 'system_fingerprint': 'fp_f7bd09b454', 'finish_reason': 'stop', 'logprobs': None}, id='run-a2a26c32-97b1-4b12-a147-ce2c8d17ae99-0', usage_metadata={'input_tokens': 831, 'output_tokens': 8, 'total_tokens': 839})]}"
      ]
     },
     "execution_count": 26,
     "metadata": {},
     "output_type": "execute_result"
    }
   ],
   "source": [
    "search_app.invoke({\"messages\": [HumanMessage(content=\"What is capital of France?\")]})"
   ]
  },
  {
   "cell_type": "markdown",
   "id": "8ef0bec8",
   "metadata": {},
   "source": [
    "### Case # 1: Shared Schema (Direct Emebed)"
   ]
  },
  {
   "cell_type": "markdown",
   "id": "6db7271c",
   "metadata": {},
   "source": [
    "Both child and parent graph will going to share same schema and this is the communication flow between them. In this scenario, the parent graph will going to utilize childgraph as a node."
   ]
  },
  {
   "cell_type": "code",
   "execution_count": 27,
   "id": "2745e583",
   "metadata": {},
   "outputs": [],
   "source": [
    "class ParentState(TypedDict):\n",
    "    messages: Annotated[list, add_messages]"
   ]
  },
  {
   "cell_type": "code",
   "execution_count": 28,
   "id": "92fe4538",
   "metadata": {},
   "outputs": [],
   "source": [
    "parent_graph = StateGraph(ParentState)\n",
    "parent_graph.add_node(\"search_agent\", search_app)\n",
    "\n",
    "parent_graph.add_edge(START, \"search_agent\")\n",
    "parent_graph.add_edge(\"search_agent\", END)\n",
    "\n",
    "parent_app = parent_graph.compile()"
   ]
  },
  {
   "cell_type": "code",
   "execution_count": 29,
   "id": "9853637a",
   "metadata": {},
   "outputs": [
    {
     "data": {
      "image/png": "[encoded data removed]",
      "text/plain": [
       "<IPython.core.display.Image object>"
      ]
     },
     "metadata": {},
     "output_type": "display_data"
    }
   ],
   "source": [
    "display(\n",
    "    Image(\n",
    "        parent_app.get_graph().draw_mermaid_png(\n",
    "            draw_method=MermaidDrawMethod.API\n",
    "        )\n",
    "    )\n",
    ")"
   ]
  },
  {
   "cell_type": "code",
   "execution_count": 30,
   "id": "e51974f5",
   "metadata": {},
   "outputs": [
    {
     "data": {
      "text/plain": [
       "{'messages': [HumanMessage(content='What is capital of France?', additional_kwargs={}, response_metadata={}, id='5f46fbae-4a8b-408f-91fc-65e71bb2a0e0'),\n",
       "  AIMessage(content='', additional_kwargs={'tool_calls': [{'id': 'call_7jrq', 'function': {'arguments': '{\"query\": \"capital of France\"}', 'name': 'tavily_search_results_json'}, 'type': 'function'}]}, response_metadata={'token_usage': {'completion_tokens': 20, 'prompt_tokens': 284, 'total_tokens': 304, 'completion_time': 0.026666667, 'prompt_time': 0.028017452, 'queue_time': 0.213827632, 'total_time': 0.054684119}, 'model_name': 'llama-3.1-8b-instant', 'system_fingerprint': 'fp_f7bd09b454', 'finish_reason': 'tool_calls', 'logprobs': None}, id='run-b5460227-9024-488c-8546-4f5b66839b2c-0', tool_calls=[{'name': 'tavily_search_results_json', 'args': {'query': 'capital of France'}, 'id': 'call_7jrq', 'type': 'tool_call'}], usage_metadata={'input_tokens': 284, 'output_tokens': 20, 'total_tokens': 304}),\n",
       "  ToolMessage(content='[{\"url\": \"https://en.wikipedia.org/wiki/List_of_capitals_of_France\", \"content\": \"From Wikipedia, the free encyclopedia\\\\nThis article needs additional citations for verification. Please help improve this article by adding citations to reliable sources. Unsourced material may be challenged and removed.\\\\nFind sources:\\\\\"List of capitals of France\\\\\"–news·newspapers·books·scholar·JSTOR(July 2012) (Learn how and when to remove this message)\\\\nThis is a chronological list of capitals of France. The capital of France has been Paris since its liberation in 1944.[1]\\\\nChronology\\\\n[edit] [...] Tours (10–13 June 1940), the city served as the temporary capital of France during World War II after the government fled Paris due to the German advance.\\\\nBordeaux (June 1940), the government was relocated from Paris to Tours then Bordeaux very briefly during World War II, when it became apparent that Paris would soon fall into German hands.\"}, {\"url\": \"https://home.adelphi.edu/~ca19535/page%204.html\", \"content\": \"Home | Spain | Sydney | San Francisco | Paris | Las Vegas | Maui\\\\nParis facts: Paris, the capital\\\\n\\\\r\\\\n        of France\\\\n\\\\nParis is the capital of France,\\\\r\\\\n      the largest country of Europe\\\\r\\\\n      with 550 000 km2 (65 millions inhabitants).\\\\n\\\\nParis has 2.234 million inhabitants\\\\r\\\\n      end 2011. She is the core of Ile de France region (12 million\\\\r\\\\n      people). [...] Before Paris, the capital of France\\\\r\\\\n        was Lyon\\\\r\\\\n        (under the Romans). Paris first became the capital of France in\\\\r\\\\n        508 under King Clovis. After centuries with no unique capital of\\\\r\\\\n        France, Paris retrieved its status of capital of France under King\\\\r\\\\n          Philippe Auguste, who reigned between 1180 and 1223. You\\\\r\\\\n        can see remains of the Philippe August Paris walls in the\\\\r\\\\n        passageway between the Louvre\\\\n\\\\r\\\\n          parking and Louvre Museum [...] Paris remained the capital of\\\\r\\\\n        France until today, with one four year interruption. During\\\\r\\\\n        German occupation (WW2 , 1940-1944), the capital of France was Vichy.\\\\n\\\\ngo to top\\\\n\\\\nReference:\\\\r\\\\n        http://www.parisdigest.com/information/facts.htm\"}]', name='tavily_search_results_json', id='64abf01d-0ba2-49da-8920-558102b510ee', tool_call_id='call_7jrq', artifact={'query': 'capital of France', 'follow_up_questions': None, 'answer': None, 'images': [], 'results': [{'url': 'https://en.wikipedia.org/wiki/List_of_capitals_of_France', 'title': 'List of capitals of France - Wikipedia', 'content': 'From Wikipedia, the free encyclopedia\\nThis article needs additional citations for verification. Please help improve this article by adding citations to reliable sources. Unsourced material may be challenged and removed.\\nFind sources:\"List of capitals of France\"–news·newspapers·books·scholar·JSTOR(July 2012) (Learn how and when to remove this message)\\nThis is a chronological list of capitals of France. The capital of France has been Paris since its liberation in 1944.[1]\\nChronology\\n[edit] [...] Tours (10–13 June 1940), the city served as the temporary capital of France during World War II after the government fled Paris due to the German advance.\\nBordeaux (June 1940), the government was relocated from Paris to Tours then Bordeaux very briefly during World War II, when it became apparent that Paris would soon fall into German hands.', 'score': 0.902481, 'raw_content': None}, {'url': 'https://home.adelphi.edu/~ca19535/page%204.html', 'title': 'Paris facts: the capital of France in history', 'content': 'Home | Spain | Sydney | San Francisco | Paris | Las Vegas | Maui\\nParis facts: Paris, the capital\\n\\r\\n        of France\\n\\nParis is the capital of France,\\r\\n      the largest country of Europe\\r\\n      with 550 000 km2 (65 millions inhabitants).\\n\\nParis has 2.234 million inhabitants\\r\\n      end 2011. She is the core of Ile de France region (12 million\\r\\n      people). [...] Before Paris, the capital of France\\r\\n        was Lyon\\r\\n        (under the Romans). Paris first became the capital of France in\\r\\n        508 under King Clovis. After centuries with no unique capital of\\r\\n        France, Paris retrieved its status of capital of France under King\\r\\n          Philippe Auguste, who reigned between 1180 and 1223. You\\r\\n        can see remains of the Philippe August Paris walls in the\\r\\n        passageway between the Louvre\\n\\r\\n          parking and Louvre Museum [...] Paris remained the capital of\\r\\n        France until today, with one four year interruption. During\\r\\n        German occupation (WW2 , 1940-1944), the capital of France was Vichy.\\n\\ngo to top\\n\\nReference:\\r\\n        http://www.parisdigest.com/information/facts.htm', 'score': 0.8898454, 'raw_content': None}], 'response_time': 1.77}),\n",
       "  AIMessage(content='Based on the search results, the capital of France is Paris.', additional_kwargs={}, response_metadata={'token_usage': {'completion_tokens': 14, 'prompt_tokens': 831, 'total_tokens': 845, 'completion_time': 0.018787946, 'prompt_time': 0.048148792, 'queue_time': 0.231309482, 'total_time': 0.066936738}, 'model_name': 'llama-3.1-8b-instant', 'system_fingerprint': 'fp_a4265e44d5', 'finish_reason': 'stop', 'logprobs': None}, id='run-0c0b5b9c-b2ad-4764-be6f-f532b8f16f11-0', usage_metadata={'input_tokens': 831, 'output_tokens': 14, 'total_tokens': 845})]}"
      ]
     },
     "execution_count": 30,
     "metadata": {},
     "output_type": "execute_result"
    }
   ],
   "source": [
    "parent_app.invoke({\"messages\": [HumanMessage(content=\"What is capital of France?\")]})"
   ]
  },
  {
   "cell_type": "markdown",
   "id": "3308a65c",
   "metadata": {},
   "source": [
    "### Case # 2 - Different Schema"
   ]
  },
  {
   "cell_type": "markdown",
   "id": "4ac58118",
   "metadata": {},
   "source": [
    "If we have different schema for both parent and child so we have to invoke chil from parent."
   ]
  },
  {
   "cell_type": "code",
   "execution_count": 31,
   "id": "d133df44",
   "metadata": {},
   "outputs": [],
   "source": [
    "from typing import Dict\n",
    "\n",
    "class QueryState(TypedDict):\n",
    "    query: str\n",
    "    response: str"
   ]
  },
  {
   "cell_type": "code",
   "execution_count": 32,
   "id": "7ebe7590",
   "metadata": {},
   "outputs": [],
   "source": [
    "def search_agent_invoker(state: QueryState):\n",
    "    subgraph_input = {\n",
    "        \"messages\": [HumanMessage(content=state[\"query\"])]\n",
    "    }\n",
    "    subgraph_output = search_app.invoke(subgraph_input)\n",
    "    assitant_message = subgraph_output[\"messages\"][-1]\n",
    "    return {\"response\": assitant_message.content}"
   ]
  },
  {
   "cell_type": "code",
   "execution_count": 33,
   "id": "b61567a1",
   "metadata": {},
   "outputs": [],
   "source": [
    "parent_graph = StateGraph(QueryState)\n",
    "\n",
    "parent_graph.add_node(\"search_agent\", search_agent_invoker)\n",
    "\n",
    "parent_graph.add_edge(START, \"search_agent\")\n",
    "parent_graph.add_edge(\"search_agent\", END)\n",
    "\n",
    "parent_app = parent_graph.compile()"
   ]
  },
  {
   "cell_type": "code",
   "execution_count": 34,
   "id": "522c98fd",
   "metadata": {},
   "outputs": [
    {
     "data": {
      "image/png": "[encoded data removed]",
      "text/plain": [
       "<IPython.core.display.Image object>"
      ]
     },
     "metadata": {},
     "output_type": "display_data"
    }
   ],
   "source": [
    "display(\n",
    "    Image(\n",
    "        parent_app.get_graph().draw_mermaid_png(\n",
    "            draw_method=MermaidDrawMethod.API\n",
    "        )\n",
    "    )\n",
    ")"
   ]
  },
  {
   "cell_type": "code",
   "execution_count": 36,
   "id": "d0e85a33",
   "metadata": {},
   "outputs": [
    {
     "data": {
      "text/plain": [
       "{'query': 'What is capital of France?',\n",
       " 'response': 'Based on the search results, the current capital of France is Paris.'}"
      ]
     },
     "execution_count": 36,
     "metadata": {},
     "output_type": "execute_result"
    }
   ],
   "source": [
    "parent_app.invoke({\"query\": \"What is capital of France?\", \"response\": \"\"})"
   ]
  },
  {
   "cell_type": "code",
   "execution_count": null,
   "id": "1ed0d2d7",
   "metadata": {},
   "outputs": [],
   "source": []
  }
 ],
 "metadata": {
  "kernelspec": {
   "display_name": ".venv (3.12.6)",
   "language": "python",
   "name": "python3"
  },
  "language_info": {
   "codemirror_mode": {
    "name": "ipython",
    "version": 3
   },
   "file_extension": ".py",
   "mimetype": "text/x-python",
   "name": "python",
   "nbconvert_exporter": "python",
   "pygments_lexer": "ipython3",
   "version": "3.12.6"
  }
 },
 "nbformat": 4,
 "nbformat_minor": 5
}
