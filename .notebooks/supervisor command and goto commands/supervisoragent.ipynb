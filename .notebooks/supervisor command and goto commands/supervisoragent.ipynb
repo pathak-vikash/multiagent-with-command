{
 "cells": [
  {
   "cell_type": "code",
   "execution_count": 47,
   "id": "5f8c5ab5",
   "metadata": {},
   "outputs": [
    {
     "data": {
      "text/plain": [
       "True"
      ]
     },
     "execution_count": 47,
     "metadata": {},
     "output_type": "execute_result"
    }
   ],
   "source": [
    "from typing import TypedDict, Annotated, List, Sequence, Literal\n",
    "from pydantic import BaseModel, Field\n",
    "from langgraph.graph import MessagesState, StateGraph, END, START\n",
    "from langchain_openai import ChatOpenAI\n",
    "from langchain_core.messages import HumanMessage\n",
    "from dotenv import load_dotenv\n",
    "from langchain_community.tools.tavily_search import TavilySearchResults\n",
    "from langgraph.prebuilt import create_react_agent\n",
    "from IPython.display import Image, display\n",
    "from langchain_core.runnables.graph import MermaidDrawMethod\n",
    "from langchain_experimental.tools import PythonREPLTool ## imports\n",
    "from langgraph.types import Command\n",
    "\n",
    "\n",
    "load_dotenv()"
   ]
  },
  {
   "cell_type": "code",
   "execution_count": 48,
   "metadata": {},
   "outputs": [],
   "source": [
    "llm = ChatOpenAI(model=\"gpt-4o\")\n",
    "tavily_search = TavilySearchResults(max_results=2)\n",
    "python_repl = PythonREPLTool()"
   ]
  },
  {
   "cell_type": "code",
   "execution_count": 49,
   "metadata": {},
   "outputs": [
    {
     "data": {
      "text/plain": [
       "'15\\n'"
      ]
     },
     "execution_count": 49,
     "metadata": {},
     "output_type": "execute_result"
    }
   ],
   "source": [
    "python_repl.invoke(\"x=5; y=10; z=x+y; print(z)\")"
   ]
  },
  {
   "cell_type": "code",
   "execution_count": 50,
   "metadata": {},
   "outputs": [],
   "source": [
    "class Supervisor(BaseModel):\n",
    "    next: Literal[\"enhancer\", \"researcher\", \"coder\"] = Field(\n",
    "        description=\"Determines which specialist to activate next in the workflow sequnce.\"\n",
    "                    \"'enhancer' when user input requires clarification, expansion, or rephrasing.\"\n",
    "                    \"'researcher' when additional facts, context, or data collection is neccessary.\"\n",
    "                    \"'coder' when implementation, computation, or technical problem-solving is required.\"\n",
    "    )\n",
    "    reason: str = Field(\n",
    "        description=\"\"\"Detailed justification for the routing decision, explaining the rationale\n",
    "        behind selecting the particular specialist and how this advances the task towards completion.\n",
    "        \"\"\"\n",
    "    )"
   ]
  },
  {
   "cell_type": "code",
   "execution_count": 51,
   "metadata": {},
   "outputs": [],
   "source": [
    "def supervisor_node(state: MessagesState) -> Command[Literal[\"enhancer\", \"researcher\", \"coder\"]]:\n",
    "    system_prompt = \"\"\"\n",
    "    You are a worflow supervisor managing a team of three specialized agents:\n",
    "    Prompt Enhancer, Researcher, and Coder. Your role is to orchestrate the workflow by selecting \n",
    "    the most approapriate next agent based on the current state and needs of the task.\n",
    "    Provide a clear, concise reationale for each decision to esnure transparency in your decision-making process.\n",
    "    \n",
    "    **Team Members:**\n",
    "    1. **Prompt Enhancer**: Always consider this agent first. They clarify ambiguous requests, \n",
    "    improve poorly defined queries, and ensure the task is well-strcutured before depper processing begins.\n",
    "    2. **Researcher**: Specialized in information gathering, fact-finding, and collection relevant data need to\n",
    "    address the user's request.\n",
    "    3. **Coder**: Focused on technical implementation, calculations, data ananlysis, algorithm development and\n",
    "    coding solutions.\n",
    "    \n",
    "    **Your Responsibilities**:\n",
    "    1. Analyze each user request and agent response for completeness, accuracy, and relevance.\n",
    "    2. Router the task to the most appropriate agent at each decision point.\n",
    "    3. Maintain workflow momentum by avoiding redundant agent assignments. \n",
    "    4. Continue the process until the user's request is fully and satisfactorily resolved.\n",
    "    \"\"\"\n",
    "    \n",
    "    messages = [\n",
    "        {\"role\": \"system\", \"content\": system_prompt}\n",
    "    ] + state[\"messages\"]\n",
    "    \n",
    "    response = llm.with_structured_output(Supervisor).invoke(messages)\n",
    "    goto = response.next\n",
    "    reason = response.reason\n",
    "    \n",
    "    print(f\"--- Workflow Transition: Supervisor -> {goto.upper()} ---\")\n",
    "    return Command(\n",
    "        update={\n",
    "            \"messages\": [\n",
    "                HumanMessage(content=reason, name=\"supervisor\")\n",
    "            ]\n",
    "        },\n",
    "        goto=goto\n",
    "    )\n"
   ]
  },
  {
   "cell_type": "code",
   "execution_count": 52,
   "metadata": {},
   "outputs": [],
   "source": [
    "def enhancer_node(state: MessagesState) -> Command[Literal[\"supervisor\"]]:\n",
    "    \"\"\"\n",
    "        Enhancer agent node that improves and clarifies user queries.\n",
    "        Takes the original user input and transforms it into a more precise,\n",
    "        actionable request before passing it to the supervisor.\n",
    "    \"\"\"\n",
    "    \n",
    "    system_prompt = \"\"\"\n",
    "    You are Query Refinement Specialist with expertise in transforming vague requests into precise instructions.\n",
    "    Your responsibilities include:\\n\\n\n",
    "    1. Analyzing the original query to identify key intent and requiements.\\n\n",
    "    2. Resolving any ambiguous without requsting additional user input.\\n\n",
    "    3. Expanding underdeveloped aspects of the query with reasonable assumptions.\n",
    "    4. Restructuing the query for clarity and actionability.\\n\n",
    "    5. Ensuring all technical terminology is properly defined in context.\\n\n",
    "    \n",
    "    **Important**: Never ask question back to the user. Instead, make informed assumptions and create the most comprehensive \n",
    "    version of their request possible.\n",
    "    \"\"\"\n",
    "    messages = [\n",
    "        {\"role\": \"system\", \"content\": system_prompt}\n",
    "    ] + state[\"messages\"]\n",
    "    \n",
    "    enhanced_query = llm.invoke(messages)\n",
    "    print(f\"--- Workflow Transition: Prompt Enhancer -> Supervisor ---\")\n",
    "    \n",
    "    return Command(\n",
    "        update={\n",
    "            \"messages\": [\n",
    "                HumanMessage(content=enhanced_query.content, name=\"enhancer\")\n",
    "            ]\n",
    "        },\n",
    "        goto=\"supervisor\"\n",
    "    )"
   ]
  },
  {
   "cell_type": "code",
   "execution_count": 53,
   "metadata": {},
   "outputs": [],
   "source": [
    "def researcher_node(state: MessagesState) -> Command[Literal[\"validator\"]]:\n",
    "    \"\"\"\n",
    "        Research agent node that gathers information using Tavily search.\n",
    "        Takes the current task state, performs relevant research,\n",
    "        and returns findings for validation.\n",
    "    \"\"\"\n",
    "    \n",
    "    research_agent = create_react_agent(\n",
    "        llm,\n",
    "        tools=[tavily_search],\n",
    "        state_modifier=\"\"\"\n",
    "            \"You are an Information Specialist with expertise in comprehensive research. Your responsibilities include:\\n\\n\"\n",
    "            \"1. Identifying key information needs based on the query context\\n\"\n",
    "            \"2. Gathering relevant, accurate, and up-to-date information from reliable sources\\n\"\n",
    "            \"3. Organizing findings in a structured, easily digestible format\\n\"\n",
    "            \"4. Citing sources when possible to establish credibility\\n\"\n",
    "            \"5. Focusing exclusively on information gathering - avoid analysis or implementation\\n\\n\"\n",
    "            \"Provide thorough, factual responses without speculation where information is unavailable.\"\n",
    "        \"\"\"\n",
    "    )\n",
    "    \n",
    "    result = research_agent.invoke(state)\n",
    "    \n",
    "    print(f\"--- Workflow Transition: Researcher -> Validator ---\")\n",
    "    \n",
    "    return Command(\n",
    "        update={\n",
    "            \"messages\": [\n",
    "                HumanMessage(content=result[\"messages\"][-1].content, name=\"researcher\")\n",
    "            ]\n",
    "        },\n",
    "        goto=\"validator\"\n",
    "    )\n",
    "    "
   ]
  },
  {
   "cell_type": "code",
   "execution_count": 54,
   "id": "38c2d1c9",
   "metadata": {},
   "outputs": [],
   "source": [
    "def code_node(state: MessagesState) -> Command[Literal[\"validator\"]]:\n",
    "    \n",
    "    \"\"\"\n",
    "        Coder agent node that implements the task using Python.\n",
    "        Takes the current task state, performs relevant coding,\n",
    "    \"\"\"\n",
    "    \n",
    "    code_agent = create_react_agent(\n",
    "        llm,\n",
    "        tools=[python_repl],\n",
    "        state_modifier=\"\"\"\n",
    "           You are a coder and analyst. Focus on mathematical calculations, analyzing, solving math questions,\n",
    "           and executing code. Handle technical problem-solving and data tasks. \n",
    "        \"\"\"\n",
    "    )\n",
    "    \n",
    "    result = code_agent.invoke(state)\n",
    "    \n",
    "    print(f\"--- Workflow Transition: Coder -> Validator ---\")\n",
    "    \n",
    "    return Command(\n",
    "        update={\n",
    "            \"messages\": [\n",
    "                HumanMessage(content=result[\"messages\"][-1].content, name=\"coder\")\n",
    "            ]\n",
    "        },\n",
    "        goto=\"validator\"\n",
    "    )"
   ]
  },
  {
   "cell_type": "code",
   "execution_count": 55,
   "id": "affbca17",
   "metadata": {},
   "outputs": [],
   "source": [
    "class Validator(BaseModel):\n",
    "    next: Literal[\"supervisor\", \"FINISH\"] = Field(\n",
    "        description=\"Specifies the next worker in the pipeline: 'supervisor' to continue or 'FINISH; to terminate.\"\n",
    "    )\n",
    "    reason: str = Field(\n",
    "        description=\"The reason for the decision\"\n",
    "    )"
   ]
  },
  {
   "cell_type": "code",
   "execution_count": 56,
   "id": "a8d9dd93",
   "metadata": {},
   "outputs": [],
   "source": [
    "def validator_node(state: MessagesState) -> Command[Literal[\"supervisor\", \"__end__\"]]:\n",
    "    \"\"\"\n",
    "        Validator agent node that evaluates the output of the previous agent.\n",
    "        Takes the current task state, performs relevant validation,\n",
    "        and returns findings for finalization.\n",
    "    \"\"\"\n",
    "    user_question = state[\"messages\"][0].content\n",
    "    agent_answer = state[\"messages\"][-1].content\n",
    "    \n",
    "    system_prompt =\"\"\"\n",
    "        Your task is to ensure reasonable quality. \n",
    "        Specifically, you must:\n",
    "        - Review the user's question (the first message in the workflow).\n",
    "        - Review the answer (the last message in the workflow).\n",
    "        - If the answer addresses the core intent of the question, even if not perfectly, signal to end the workflow with 'FINISH'.\n",
    "        - Only route back to the supervisor if the answer is completely off-topic, harmful, or fundamentally misunderstands the question.\n",
    "        \n",
    "        - Accept answers that are \"good enough\" rather than perfect\n",
    "        - Prioritize workflow completion over perfect responses\n",
    "        - Give benefit of doubt to borderline answers\n",
    "        \n",
    "        Routing Guidelines:\n",
    "        1. 'supervisor' Agent: ONLY for responses that are completely incorrect or off-topic.\n",
    "        2. Respond with 'FINISH' in all other cases to end the workflow.\n",
    "    \"\"\"\n",
    "    \n",
    "    messages = [\n",
    "        {\"role\": \"system\", \"content\": system_prompt},\n",
    "        {\"role\": \"user\", \"content\": user_question},\n",
    "        {\"role\": \"assistant\", \"content\": agent_answer}\n",
    "    ]\n",
    "    \n",
    "    response = llm.with_structured_output(Validator).invoke(messages)\n",
    "    \n",
    "    goto = response.next\n",
    "    reason = response.reason\n",
    "    \n",
    "    if goto == \"FINISH\" or goto == END:\n",
    "        goto = END\n",
    "        print(f\"--- Transitiong to end the workflow ---\")\n",
    "    else:\n",
    "        print(f\"--- Workflow Transition: Validator -> Supervisor ---\")\n",
    "        \n",
    "    return Command(\n",
    "        update={\n",
    "            \"messages\": [\n",
    "                HumanMessage(content=reason, name=\"validator\")\n",
    "            ]\n",
    "        },\n",
    "        goto=goto\n",
    "    )\n",
    "    "
   ]
  },
  {
   "cell_type": "code",
   "execution_count": 57,
   "id": "b1373c37",
   "metadata": {},
   "outputs": [],
   "source": [
    "graph = StateGraph(MessagesState)\n",
    "\n",
    "graph.add_node(\"supervisor\", supervisor_node)\n",
    "graph.add_node(\"enhancer\", enhancer_node)\n",
    "graph.add_node(\"researcher\", researcher_node)\n",
    "graph.add_node(\"coder\", code_node)\n",
    "graph.add_node(\"validator\", validator_node)\n",
    "\n",
    "graph.add_edge(START, \"supervisor\")\n",
    "app = graph.compile()"
   ]
  },
  {
   "cell_type": "code",
   "execution_count": 58,
   "id": "cfb3ba73",
   "metadata": {},
   "outputs": [
    {
     "data": {
      "image/png": "[encoded data removed]",
      "text/plain": [
       "<IPython.core.display.Image object>"
      ]
     },
     "metadata": {},
     "output_type": "display_data"
    }
   ],
   "source": [
    "display(Image(app.get_graph(xray=True).draw_mermaid_png()))"
   ]
  },
  {
   "cell_type": "code",
   "execution_count": 59,
   "id": "31384b5f",
   "metadata": {},
   "outputs": [
    {
     "name": "stdout",
     "output_type": "stream",
     "text": [
      "--- Workflow Transition: Supervisor -> RESEARCHER ---\n",
      "\"Output from the node: 'supervisor':\"\n",
      "HumanMessage(content='The user is asking for current weather information, which requires accessing up-to-date data. The Researcher is best equipped to gather the latest weather details for Athens, Greece.', additional_kwargs={}, response_metadata={}, name='supervisor', id='14169202-68dd-45fc-bb82-6cde4a8414cb')\n",
      "\n",
      "--- Workflow Transition: Researcher -> Validator ---\n",
      "\"Output from the node: 'researcher':\"\n",
      "HumanMessage(content='The current weather in Athens, Greece is as follows:\\n\\n- **Temperature**: 25.2°C (77.4°F)\\n- **Condition**: Sunny\\n- **Wind Speed**: 11.9 mph (19.1 kph) from the West\\n- **Humidity**: 32%\\n- **Pressure**: 1010 mb\\n- **Visibility**: 10 km\\n- **UV Index**: 8\\n- **Precipitation**: 0.0 mm\\n\\nThis information was last updated at 12:00 local time. [Source](https://www.weatherapi.com/)', additional_kwargs={}, response_metadata={}, name='researcher', id='c530398b-9840-4f3a-b896-966499586a29')\n",
      "\n",
      "--- Workflow Transition: Validator -> Supervisor ---\n",
      "\"Output from the node: 'validator':\"\n",
      "HumanMessage(content=\"The answer provided a weather report, but it's outdated and not reflective of current conditions. As the user asked for today's weather, the response should be current and updated.\", additional_kwargs={}, response_metadata={}, name='validator', id='8707e732-d506-45e3-bb55-5aa7b8f64dc5')\n",
      "\n",
      "--- Workflow Transition: Supervisor -> RESEARCHER ---\n",
      "\"Output from the node: 'supervisor':\"\n",
      "HumanMessage(content='The previous response provided outdated weather data. The Researcher needs to re-check for the most current weather information in Athens, Greece to ensure accuracy and relevance.', additional_kwargs={}, response_metadata={}, name='supervisor', id='a2cf3699-bec2-49a5-b947-abe34fa4c695')\n",
      "\n",
      "--- Workflow Transition: Researcher -> Validator ---\n",
      "\"Output from the node: 'researcher':\"\n",
      "HumanMessage(content='The current weather in Athens, Greece is as follows:\\n\\n- **Temperature**: 25.2°C (77.4°F)\\n- **Condition**: Sunny\\n- **Wind Speed**: 11.9 mph (19.1 kph) from the West\\n- **Humidity**: 32%\\n- **Pressure**: 1010 mb\\n- **Visibility**: 10 km\\n- **UV Index**: 8\\n- **Precipitation**: 0.0 mm\\n\\nThis information is up-to-date as of 12:00 local time. For further details, you can refer to [WeatherAPI](https://www.weatherapi.com/).', additional_kwargs={}, response_metadata={}, name='researcher', id='b3261d59-537c-4422-801a-9854a4fb1287')\n",
      "\n",
      "--- Workflow Transition: Validator -> Supervisor ---\n",
      "\"Output from the node: 'validator':\"\n",
      "HumanMessage(content='The answer provides a detailed weather report for Athens, Greece, but it mistakenly includes a link to WeatherAPI, which may not be functional in this context.', additional_kwargs={}, response_metadata={}, name='validator', id='1b33687d-62ed-4ded-b3f6-9b173b33833d')\n",
      "\n",
      "--- Workflow Transition: Supervisor -> RESEARCHER ---\n",
      "\"Output from the node: 'supervisor':\"\n",
      "HumanMessage(content=\"The previous response still didn't clearly state that the data is the latest available, nor did it confirm the time of data retrieval. It's important to ensure the user gets the most up-to-date information without unnecessary links. The Researcher should verify the latest weather data and specify the exact time to ensure accuracy.\", additional_kwargs={}, response_metadata={}, name='supervisor', id='b83bb08a-e44f-4121-9e5a-92f9ec9b7e8a')\n",
      "\n",
      "--- Workflow Transition: Researcher -> Validator ---\n",
      "\"Output from the node: 'researcher':\"\n",
      "HumanMessage(content='The current weather in Athens, Greece as of 11:50 AM local time is:\\n\\n- **Temperature**: 25°C (77°F)\\n- **Condition**: Mostly clear\\n- **Wind Speed**: 9.2 mph from the West (260°)\\n- **Humidity**: 32%\\n- **Visibility**: 6.21 miles\\n- **Pressure**: 29.85 inHg\\n\\nThis data is sourced from the Athens Eleftherios Venizelos International Airport weather station.', additional_kwargs={}, response_metadata={}, name='researcher', id='3242a2f2-a72d-4cb7-b0fa-b01143b06ed9')\n",
      "\n",
      "--- Transitiong to end the workflow ---\n",
      "\"Output from the node: 'validator':\"\n",
      "HumanMessage(content=\"The answer provides current weather information for Athens, Greece, which addresses the user's question adequately.\", additional_kwargs={}, response_metadata={}, name='validator', id='ef7e9010-0fea-496a-b5f9-a31bee85ba76')\n",
      "\n"
     ]
    }
   ],
   "source": [
    "import pprint\n",
    "\n",
    "inputs = {\n",
    "    \"messages\": [\n",
    "        (\"user\", \"Weather in Greece, Athens today?\"),\n",
    "    ]\n",
    "}\n",
    "\n",
    "## server side rendering \n",
    "for event in app.stream(inputs):\n",
    "    for key, value in event.items():\n",
    "        if value is None:\n",
    "            continue\n",
    "        last_message = value.get(\"messages\", [])[-1] if \"messages\" in value else None\n",
    "        if last_message:\n",
    "            pprint.pprint(f\"Output from the node: '{key}':\")\n",
    "            pprint.pprint(last_message, indent=2, width=80, depth=None)\n",
    "            print()"
   ]
  },
  {
   "cell_type": "code",
   "execution_count": 60,
   "id": "7be56517",
   "metadata": {},
   "outputs": [
    {
     "name": "stdout",
     "output_type": "stream",
     "text": [
      "--- Workflow Transition: Supervisor -> CODER ---\n",
      "\"Output from the node: 'supervisor':\"\n",
      "HumanMessage(content=\"The user's request is clear and specific: they want the 20th Fibonacci number. This is a straightforward computational task that requires implementing an algorithm to calculate Fibonacci numbers, which falls under the Coder's expertise.\", additional_kwargs={}, response_metadata={}, name='supervisor', id='b9ee6170-af5c-45d6-ae7d-1c4623f13f53')\n",
      "\n",
      "--- Workflow Transition: Coder -> Validator ---\n",
      "\"Output from the node: 'coder':\"\n",
      "HumanMessage(content='The 20th Fibonacci number is 6765.', additional_kwargs={}, response_metadata={}, name='coder', id='fef4b554-82a1-4b5b-af60-272473779119')\n",
      "\n",
      "--- Transitiong to end the workflow ---\n",
      "\"Output from the node: 'validator':\"\n",
      "HumanMessage(content=\"The answer correctly provides the 20th Fibonacci number, addressing the user's question.\", additional_kwargs={}, response_metadata={}, name='validator', id='fb04d7b0-2929-47fa-8641-a7e532151a6d')\n",
      "\n"
     ]
    }
   ],
   "source": [
    "import pprint\n",
    "\n",
    "inputs = {\n",
    "    \"messages\": [\n",
    "        (\"user\", \"Give me the 20th fibonacci number.\"),\n",
    "    ]\n",
    "}\n",
    "\n",
    "## server side rendering \n",
    "for event in app.stream(inputs):\n",
    "    for key, value in event.items():\n",
    "        if value is None:\n",
    "            continue\n",
    "        last_message = value.get(\"messages\", [])[-1] if \"messages\" in value else None\n",
    "        if last_message:\n",
    "            pprint.pprint(f\"Output from the node: '{key}':\")\n",
    "            pprint.pprint(last_message, indent=2, width=80, depth=None)\n",
    "            print()"
   ]
  },
  {
   "cell_type": "code",
   "execution_count": null,
   "id": "a589a741",
   "metadata": {},
   "outputs": [],
   "source": []
  }
 ],
 "metadata": {
  "kernelspec": {
   "display_name": ".venv (3.12.6)",
   "language": "python",
   "name": "python3"
  },
  "language_info": {
   "codemirror_mode": {
    "name": "ipython",
    "version": 3
   },
   "file_extension": ".py",
   "mimetype": "text/x-python",
   "name": "python",
   "nbconvert_exporter": "python",
   "pygments_lexer": "ipython3",
   "version": "3.12.6"
  }
 },
 "nbformat": 4,
 "nbformat_minor": 5
}
